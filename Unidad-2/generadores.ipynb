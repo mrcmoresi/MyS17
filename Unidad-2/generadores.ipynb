{
 "cells": [
  {
   "cell_type": "markdown",
   "metadata": {
    "deletable": true,
    "editable": true
   },
   "source": [
    "\n",
    "# Generadores de números pseudoaleatorios\n",
    "\n",
    "## Características de un generador de números aleatorios\n",
    "\n",
    "   En simulación estocástica los generadores de números (pseudo)aleatorios con distribución uniforme en el intervalo $[0,1]$ son empleados de muchas maneras:\n",
    "\n",
    "- en forma directa, es decir, porque se desea obtener valores uniformemente distribuidos en $[0,1]$,  \n",
    "- para generar otras variables aleatorias, con distribuciones discretas o continuas,\n",
    "- item para generar conjuntos de variables aleatorias dependientes, como por ejemplo procesos estocásticos y distribuciones multivariadas.\n",
    "\n",
    "\n",
    "   La ejecución de una simulación está fuertemente correlacionada con el generador de v.a. uniformes utilizado, por lo cual es importante garantizar las buenas propiedades del generador. Dado que los números son generados por una sucesión de pasos, sería más preciso referirse a ellos como generadores de __números pseudoaleatorios__. \n",
    "\n",
    "__Definición 1:__ Una $N$-upla de variables aleatorias $(U_1, U_2, \\dots, U_N)$ es una muestra de tamaño $N$ de una variable aleatoria uniforme en $(0,1)$ si cumple:\n",
    "\n",
    "1. Para cada $k\\ge 2$ y cada $1 \\le i_1 < \\dots < i_k \\le N$ vale que $\\mathbb P (U_{i_1} \\le u_1, \\dots, U_{i_k} \\le u_k) = \\mathbb P (U_{i_1} \\le u_1) \\dots \\mathbb P( U_{i_k} \\le u_k) = u_1 \\cdot u_2 \\cdots u_k$, cualesquiera sean $u_1$, \\dots, $u_k$, \n",
    "2. para cada $i=1, \\dots, N$ y cada $u \\in \\mathbb R$ vale \n",
    "$$\\mathbb P(U_i \\le u) = \\begin{cases}\n",
    "                          0 & \\mbox{ si } u < 0 \\\\\n",
    "                          u & \\mbox{ si } 0 \\le u \\le 1 \\\\\n",
    "                          1 & \\mbox{ si } u > 0 .\n",
    "                         \\end{cases}.\n",
    "$$\n",
    "\n",
    "   Esta definición significa que no sólo las secuencias de números deben estar uniformemente distribuidas en $(0,1)$, sino que además los pares de números generados $(u_{i_1},u_{i_2})$ deben distribuirse uniformemente en un cuadrado de lado $1$, las ternas $(u_{i_1},u_{i_2},u_{i_3})$ en un cubo de lado $1$, y así siguiendo.\n",
    "\n",
    "Por generador de números pseudoaleatorios entenderemos un algoritmo capaz de producir secuencias de números: \n",
    "$$u_1,\\ u_2,\\dots,\\ u_N,$$\n",
    "que sean realizaciones de muestras de tamaño $N$ de variables uniformes. \n",
    "\n",
    "Además de satisfacer las propiedades dadas en la Definición 1, un buen generador debería satisfacer, en la mejor medida posible, las dos siguientes propiedades:\n",
    "\n",
    "1. __repetibilidad__ y __portabilidad__, y \n",
    "2. __velocidad computacional__.\n",
    "\n",
    "\n",
    "\n",
    "Por __repetibilidad__ se entiende que, si en ocasiones repetidas se dan los mismos parámetros, el generador debe producir la misma sucesión. Esta propiedad garantiza que los resultados de una simulación sean confiables.\n",
    "\n",
    "__Portabilidad__ significa que, sobre las mismas condiciones de definición, la sucesión sea la misma, independientemente del lenguaje computacional usado para implementar el algoritmo de generación, y de la computadora utilizada. Esta propiedad suele ser difícil de alcanzar, pero aún así es un aspecto deseable.\n",
    "\n",
    "\n",
    "La __velocidad computacional__ está estrictamente ligada a la precisión deseada en los resultados finales de la simulación para la cual el generador es utilizado. Cuanto más rápido sea el generador, más resultados serán obtenidos en el mismo tiempo de uso del computador.\n",
    "\n",
    "De hecho, toda vez que se realiza una simulación, se acepta una solución de compromiso entre los requerimientos expuestos anteriormente, pero siempre los prioritarios debieran ser las establecidas en la Definición 1.\n",
    "\n",
    "\n",
    "### Breve reseña histórica\n",
    "Los primeros científicos y personas interesadas en obtener secuencias de números aleatorios usaron procedimientos físicos. Experimentos de simulación basados en tiradas de monedas o dados, ruletas, tienen una larga historia, y aún hoy son usados en juegos tales como bingos y en casinos, loterías, etc.\n",
    "\n",
    "Probablemente uno de los primeros trabajos serios en generación de números aleatorios fue la tabla de Tippett (1927), que consistía de 41.600 dígitos aleatorios. Lamentablemente no satisfacían ninguna de las condiciones dadas en la Definición 1. La primera máquina fue usada en 1939 por Kendall y\n",
    "Babington-Smith con el fin de producir una tabla de 100.000 dígitos aleatorios y en\n",
    "1955 la RAND Corporation utilizó extensamente una tabla de 1.000.000 de dígitos aleatorios\n",
    "que fue obtenida a partir de una ruleta electrónica especialmente diseñada.\n",
    "Si bien estos métodos recibieron cierta aceptación, por un lado por satisfacer ciertos tests y/o porque funcionaban en la práctica, tienen la desventaja de no cumplir la condición de repetibilidad.  Por lo tanto sólo pueden ser usados en situaciones donde la repetibilidad no es lo buscado, por ejemplo en loterías; o en ciertas aplicaciones estadísticas, como en muestreos aleatorios de poblaciones no muy grandes. \n",
    "\n",
    "\\\n",
    "\n",
    "## Principios generales de un buen generador\n",
    "Al definir un generador, hay ciertos __principios generales__ que deben satisfacerse, además de las condiciones que ya hemos marcado:\n",
    "\n",
    "-  __P1:__ La secuencia generada debe ser intuitivamente aleatoria. \n",
    "- __P2:__ Esa aleatoriedad debe ser establecida teóricamente o, al menos, debe pasar ciertos tests de aleatoriedad. La aleatoriedad de una secuencia jamás debe ser asumida sin esas verificaciones.\n",
    "- __P3:__ Debe conocerse algo sobre las propiedades teóricas del generador.\n",
    "\n",
    "\n",
    "   El principio __P1__ es ciertamente razonable. No debería ser posible poder anticipar cuál es el siguiente número en una secuencia si ésta es aleatoria. El segundo principio, __P2__ se refiere a que deben satisfacerse tests estadísticos en relación a las condiciones dadas en la Definición 1. El tercero, __P3__, garantiza la condición de repetibilidad del generador.\n",
    "\n",
    "   Estos principios generales indican que los generadores ad hoc deben ser evitados. Es decir, no cualquier algoritmo que genere números __arbitrariamente__ entre $0$ y $1$ debe considerarse un buen generador.\n",
    "\n",
    "__Ejemplo:__\n",
    "Uno de los primeros trabajos que sugieren un método bien definido de generación de una secuencia determinística intentando imitar una secuencia aleatoria, fue de von Neumann. Este método conocido como ''mid square'' puede ser escrito de la siguiente manera: \n",
    "\n",
    "1. Sea $X_0$ un número entero de 4 dígitos decimales (puede ser que el dígito de más a la izquierda sea 0). Hacer $i=0$.\n",
    "2. Calcular ${X_i}^2$. El resultado es un número de 8 dígitos, o si tuviera menos se agregarían  tantos ceros a la izquierda como sea necesario. Así  ${X_i}^2= d_8d_7d_6d_5d_4d_3d_2d_1d_0$, con $d_j$ en el conjunto $\\{0,1, \\dots, 9\\}$,  $0 \\le j \\le 7$. \n",
    "3. Definir $X_{i+1}= d_5d_4d_5d_3d_2$, esto es, los cuatro dígitos centrales o ''middle''.\n",
    "4. Hacer $i = i+1$ y volver al paso 2.\n",
    "\n",
    "\n",
    "Este método es un ejemplo de lo que llamaríamos un __mal generador de números aleatorios__. Veamos por qué. \n",
    "\n",
    "Aunque ciertas secuencias obtenidas sean bien aleatorias y se repitan sólo después de un número bien grande de términos, sucede que no se conocen bien las propiedades del generador. En particular, pareciera que las secuencias que se obtienen dependen fuertemente del valor inicial $X_0$. \n",
    "\n",
    "Algunos casos patológicos ocurren con $X_0=3792$ y $X_0=2100$."
   ]
  },
  {
   "cell_type": "code",
   "execution_count": null,
   "metadata": {
    "collapsed": true,
    "deletable": true,
    "editable": true
   },
   "outputs": [],
   "source": [
    "##generador de von Neumann\n",
    "def vonNeumann(u):\n",
    "    u=((u**2)%1000000)//100\n",
    "    return u"
   ]
  },
  {
   "cell_type": "code",
   "execution_count": null,
   "metadata": {
    "collapsed": false,
    "deletable": true,
    "editable": true
   },
   "outputs": [],
   "source": [
    "##Generación de una secuencia con middle square\n",
    "##n=longitud deseada de la secuencia\n",
    "##semilla: número entero de hasta cuatro dígitos\n",
    "n=13\n",
    "\n",
    "semilla=3792\n",
    "yn=semilla\n",
    "for i in range(n):\n",
    "     print(yn,\" \",end = ' ')\n",
    "     yn = vonNeumann(yn)"
   ]
  },
  {
   "cell_type": "markdown",
   "metadata": {
    "deletable": true,
    "editable": true
   },
   "source": [
    "## Generadores congruenciales\n",
    "\n",
    "Es claro que con una computadora no es posible generar cualquier número real, en particular no sería posible si posee infinitas cifras decimales, o si la cantidad de cifras decimales supera a la precisión de la computadora. Los generadores que analizaremos a continuación producen en realidad\n",
    "una secuencia de números enteros $$y_1, y_2, \\dots, y_N, \\qquad y_j \\in \\{0,1,\\dots, M-1\\},$$ para un cierto entero positivo $M$ ''grande'', para luego tomar la sucesión de números en $[0,1)$ como \n",
    "$$u_1=\\frac{y_1}M, \\ u_2=\\frac{y_2}M,  \\dots, u_N=\\frac{y_N}M, \\dots.$$\n",
    "\n",
    "Nos ocuparemos entonces de generar secuencias de números enteros:\n",
    "$$y_n=f(y_{n-1}) \\mod M,$$\n",
    "para algún $M$ entero positivo, y comenzando de un valor inicial (semilla) $y_0$.\n",
    "\n",
    "## Generadores congruenciales lineales\n",
    "\n",
    "__Definición 2:__\n",
    "Sea $M$ un entero positivo, $M\\ge 2$. Una sucesión $y_1, y_2, \\dots,y_n,\\dots$ con valores en $\\{0,1,\\dots, M-1\\}$ se dice _generada por el generador congruencial lineal con parámetros $a$, $c$ y $M$ y semilla $y_0$_ si \n",
    "$$y_n = (ay_{n-1}+c) \\mod M, \\qquad n \\ge 1,$$\n",
    "donde $a$, $c$ e $y_0$ son enteros del conjunto $\\{0,\\dots, M-1\\}$.\n",
    "\n",
    "\n",
    "En la terminología usual $a$ se dice el __multiplicador__, $c$ es el __incremento__ y $M$ es el __módulo__. Si $c\\neq 0$ el generador se dice __mixto__ y  si $c=0$ se dice __multiplicativo__. "
   ]
  },
  {
   "cell_type": "code",
   "execution_count": null,
   "metadata": {
    "collapsed": true,
    "deletable": true,
    "editable": true
   },
   "outputs": [],
   "source": [
    "###Generador mixto\n",
    "##M: período, a: multiplicador, c:incremento\n",
    "def ranMixto(u):\n",
    "    return (a*u+c)%M"
   ]
  },
  {
   "cell_type": "code",
   "execution_count": null,
   "metadata": {
    "collapsed": true,
    "deletable": true,
    "editable": true
   },
   "outputs": [],
   "source": [
    "###Generador multiplicativo\n",
    "###M: período, a: multiplicador\n",
    "\n",
    "def ranMulti(u):\n",
    "    return a*u %M"
   ]
  },
  {
   "cell_type": "markdown",
   "metadata": {
    "deletable": true,
    "editable": true
   },
   "source": [
    "__Ejemplo:__\n",
    "La secuencia\n",
    "$$0,1,6,15,12,13,2,11,8,9,\\dots$$\n",
    "fue generada por un generador congruencial lineal. El lector, ¿podría decir cual será el próximo número (entre $0$ y $15$)?"
   ]
  },
  {
   "cell_type": "code",
   "execution_count": null,
   "metadata": {
    "collapsed": false,
    "deletable": true,
    "editable": true
   },
   "outputs": [],
   "source": [
    "a= 3   ##ingresar multiplicador\n",
    "c= 7   ##ingresar incremento\n",
    "M= 16  ##ingresar módulo\n",
    "semilla=1  ##ingresar semilla\n",
    "\n",
    "\n",
    "\n",
    "u=semilla\n",
    "if c==0:\n",
    "    for i in range(10):\n",
    "        print(u,end = '    ')\n",
    "        u=ranMulti(u)\n",
    "else:\n",
    "    for i in range(10):\n",
    "        print(u,end = '    ' )\n",
    "        u=ranMixto(u)\n",
    "    "
   ]
  },
  {
   "cell_type": "markdown",
   "metadata": {
    "deletable": true,
    "editable": true
   },
   "source": [
    "\n",
    "No siempre una secuencia generada por un generador congruencial lineal resulta intituitivamente aleatoria. Tampoco el hecho que sea intuitivamente aleatoria implica que cumpla satisfactoriamente las condiciones de aleatoriedad dadas en la Definición 1. \n",
    "\n",
    "En principio pareciera que cuanto más números distintos aparecen en la secuencia hasta obtener un valor repetido,  más impredecible será el próximo número. Aunque esto no es del todo cierto, como puede verse eligiendo $a=0$ y $c=1$. De todos modos, cuanto más números se puedan generar hasta alcanzar uno repetido, mayor cantidad de números en el $[0,1)$ habremos generado, por lo tanto es deseable que esa repetición ocurra lo más tarde posible. \n",
    "\n",
    "Es claro que la secuencia puede tener, a lo sumo, $M$ números diferentes, y que si un número se repite entonces también se repite la secuencia que sigue a ese número. Entonces, si $K$ es el menor número tal que a partir de un cierto $u\\in \\mathbb N$,\n",
    "$$y_{n}=y_{n+K}, \\qquad \\mbox{para todo }n \\ge u,$$\n",
    "diremos que $K$ es el \\textbf{período} de la secuencia $y_0$, $y_1$, $\\dots$. Claramente, $K \\le M$.\n",
    "\n",
    "__Pregunta:__ Ahora, ¿cómo escoger $a$, $c$, $M$ y $y_0$ para obtener las secuencias con mayor período $K$ posible? \n",
    "\n",
    " Aún consiguiendo una período $K$ grande, es importante elegir $a$, $c$ y la semilla $y_0$ de modo que las secuencias tengan un comportamiento lo más aleatorio posible. Esto es, que satisfagan ciertos tests de aleatoriedad.\n",
    "\n",
    "Para el caso de generadores congruenciales lineales existen varios resultados teóricos que permiten conseguir secuencias con períodos grandes. La aleatoriedad debe ser probada aparte, __ninguno__ de estos resultados garantizan que se satisfagan los tests de aleatoriedad.\n",
    "\n",
    "Algo a notar es que, si el generador es multiplicativo ($c=0$), entonces un buen generador no debería alcanzar nunca el valor $0$, de lo contrario la secuencia degeneraría en una sucesión infinita de ceros. Por lo tanto, para obtener un período máximo, esto es $K=M$, necesariamente debe ser un generador mixto.\n",
    "\n",
    "\n",
    "__Teorema 1:__\n",
    "Consideremos una secuencia dada por el generador:\n",
    "$$y_{n+1}=a\\,y_n+c \\mod M, \\qquad {c \\neq 0}.$$\n",
    "Entonces la secuencia tiene  período $M$ si y sólo si se cumplen todas las siguientes condiciones:\n",
    "- El máximo común divisor entre $c$ y $M$ es 1: $(c,M)=1$.\n",
    "- $a \\equiv 1 \\mod p$, para cualquier factor primo $p$ de $M$.\n",
    "- Si $4$ divide a  $M$, entonces $a \\equiv 1 \\mod 4$.\n",
    "\n",
    "La demostración puede encontrarse en Knuth, D. (Ver referencias) Damos un ejemplo y sugerimos al lector pensar en otros casos que respondan a este teorema.\n",
    "\n"
   ]
  },
  {
   "cell_type": "code",
   "execution_count": null,
   "metadata": {
    "collapsed": false,
    "deletable": true,
    "editable": true
   },
   "outputs": [],
   "source": [
    "##Elegir $M$, $a$ y $c$ para obtener un generador \n",
    "##congruencial lineal mixto que satisfaga el Teorema 1\n",
    "M=16\n",
    "a=3\n",
    "c=3\n",
    "semilla=0  #elegir cualquier semilla\n",
    "####\n",
    "u=semilla\n",
    "n=15 #longitud de la secuencia\n",
    "for i in range(n):\n",
    "    print(u,end = '    ')\n",
    "    u=ranMixto(u)"
   ]
  },
  {
   "cell_type": "markdown",
   "metadata": {
    "deletable": true,
    "editable": true
   },
   "source": [
    "\n",
    "Notemos en particular que, si $M=2^n$, entonces $a$ debe ser de la forma $4m+1$ y $c$ debe ser impar. Una ventaja de tomar $M$ igual a una potencia de $2$, digamos $2^n$, es que computacionalmente tomar módulo equivale a considerar los últimos $n$ bits de la representación.\n",
    "\n",
    "__Ejemplo:__\n",
    "En Numerical Recipes se presenta el siguiente ejemplo de un modelo de generador provisto por bibliotecas de ANSI C, y que responde a un tipo de generador lineal congruencial mixto. En este caso se toma:\n",
    "$$a=1103515245, \\qquad c=12345, \\qquad M=2^{32}.$$\n",
    "Así en este caso el período de la secuencia es $K=2^{32}=4\\,294\\,967\\,296.$\n",
    "\n"
   ]
  },
  {
   "cell_type": "code",
   "execution_count": null,
   "metadata": {
    "collapsed": false,
    "deletable": true,
    "editable": true
   },
   "outputs": [],
   "source": [
    "a=1103515245\n",
    "c=12345\n",
    "M=2**32\n",
    "semilla=9876543210\n",
    "\n",
    "u=semilla\n",
    "for i in range(10):\n",
    "    print(u/M)\n",
    "    u=ranMixto(u)"
   ]
  },
  {
   "cell_type": "markdown",
   "metadata": {
    "deletable": true,
    "editable": true
   },
   "source": [
    "   Una desventaja de un generador mixto, es que para cada valor generado se efectúa una suma, operación que no se realiza para un generador multiplicativo. \n",
    "Si bien en el caso de un generador multiplicativo el período de la secuencia puede ser a lo sumo $M-1$, es preferible usar este tipo de generadores para ganar en velocidad y costo operacional.\n",
    "\n",
    "Veamos entonces qué condiciones debe tener un generador multiplicativo para poder obtener un período máximo, $K=M-1$. Antes de presentar un resultado relacionado con estos generadores, definimos el concepto de __raíz primitiva__ de un número natural.\n",
    "\n",
    "__Definición 3: __\n",
    "Sea $M$ un número natural. Se dice que $a$ es una __raíz primitiva__ de $M$ si \n",
    "$$a^{(M-1)/p}\\not \\equiv 1 \\mod(M)$$ para cualquier factor primo $p$ de $M-1$.\n",
    "\n",
    "__Ejemplo:__ Si consideramos M=11, entonces los primos que dividen a $M-1=10$ son $2$ y $5$. Entonces $\\frac{M-1}{p}$ es $5$ o $2$.\n",
    "Veamos si $2$ es raíz primitiva.\n",
    "$$2^5=32\\equiv 10\\mod 11, \\qquad 2^2\\equiv 4 \\mod 11,$$\n",
    "luego es raíz primitiva.\n",
    "\n",
    "En cambio $3$ no es raíz primitiva, puesto que\n",
    "$$3^5=243 \\equiv 1 \\mod 11.$$\n",
    "\n",
    "Con esta definición, enunciamos el siguiente resultado:\n",
    "\n",
    "__Teorema 2:__ \n",
    "Para un generador multiplicativo $$y_{n+1}=a\\,y_n \\mod M,$$\n",
    "el período $K$ de la secuencia verifica las siguientes tres propiedades:\n",
    "- Si $K=M-1$ entonces $M$ es primo.\n",
    "- Si $M$ es primo, entonces $K$ divide a $M-1$.\n",
    "- $K=M-1$ si y sólo si $a$ es raíz primitiva de $M$ y $M$ es primo.\n",
    "\n",
    "Así el Teorema 2 da pautas para encontrar generadores multiplicativos con período máximo. Lo óptimo sería determinar un número primo $M$ grande, y una raíz primitiva de $a$.\n",
    "Por otra parte, si la raíz primitiva elegida es muy pequeña en relación a $M$, los primeros términos de la secuencia pueden resultar en orden creciente. Por lo tanto es conveniente tomar una raíz primitiva más grande para superar más rápidamente el valor de $M$.  Afortunadamente, existen resultados que nos permiten encontrar otras raíces primitivas a partir de una conocida. En particular, si $a$ es raíz primitiva y $(m,M-1)=1$, entonces $a^m$ es raíz primitiva.\n",
    "\n",
    "Por ejemplo, como $(3,10)$ son coprimos y $2$ es raíz primitiva de $11$, entonces $2^3=8$ también es raíz primitiva de 11. "
   ]
  },
  {
   "cell_type": "code",
   "execution_count": null,
   "metadata": {
    "collapsed": false,
    "deletable": true,
    "editable": true
   },
   "outputs": [],
   "source": [
    "##Elegir M primo y a raíz primitiva de M\n",
    "semilla=10\n",
    "M=11\n",
    "a=8\n",
    "\n",
    "u=semilla\n",
    "for i in range(M):\n",
    "    u=ranMulti(u)\n",
    "    print(u, end = '    ')\n"
   ]
  },
  {
   "cell_type": "markdown",
   "metadata": {
    "deletable": true,
    "editable": true
   },
   "source": [
    "\n",
    "__Ejemplo: __ En Numerical Recipes se menciona el generador congruencial multiplicativo con \n",
    "\n",
    "$$ a=7^5=16807 \\qquad \\qquad M=2^{31}-1=2\\,147\\,483\\,647.$$\n",
    "\n",
    "En este caso, $M$ es un \\textbf{primo de Mersenne}, es decir, de la forma $2^{2^k-1}-1$. La factorización en primos de $M-1$ está dada por:\n",
    "\n",
    "$$M-1 = 2^{31}-2 = 2 \\cdot 3^2 \\cdot {\\bf 7} \\cdot 11 \\cdot 31 \\cdot 151 \\cdot 331.$$\n",
    "\n",
    "Dado que $7$ es raíz primitiva de $M$ y $(5, M-1)=1$, entonces  $7^5=16807$ es raíz primitiva, y la secuencia generada tiene período:\n",
    "\n",
    "$$K=M-1=2\\,147\\,483\\,646.$$\n",
    "\n"
   ]
  },
  {
   "cell_type": "code",
   "execution_count": null,
   "metadata": {
    "collapsed": false,
    "deletable": true,
    "editable": true
   },
   "outputs": [],
   "source": [
    "##generador con M primo de Mersenne\n",
    "M=2**31-1\n",
    "a=7^5\n",
    "\n",
    "n=5 ##longitud de secuencia\n",
    "semilla=987654321\n",
    "\n",
    "u=semilla\n",
    "for i in range(n):\n",
    "    print(u/M)\n",
    "    u=ranMulti(u)\n"
   ]
  },
  {
   "cell_type": "markdown",
   "metadata": {
    "deletable": true,
    "editable": true
   },
   "source": [
    "Una de las __desventajas__ de cualquier generador congruencial lineal, sea mixto o multiplicativo, es que no se cumple tan satisfactoriamente la primera condición dada en la Definición 1.\n",
    "\n",
    "Para el caso de los generadores congruenciales lineales, ocurre lo siguiente. Si la secuencia producida es \n",
    "$y_0, \\ y_1, \\ y_2, \\dots, y_n\\, \\dots,$\n",
    "está demostrado que la sucesión de puntos (k-uplas)\n",
    " $$(y_j, y_{j+1}, \\dots, y_{j+k-1}), \\quad j=0,1,2,\\dots$$\n",
    "están ubicados en no más de  \n",
    "$$(k!M)^{1/k}=(k!)^{1/k}\\,\\sqrt[k]{M} $$\n",
    "hiperplanos paralelos. Esto indica que para un $k$ suficientemente grande, los puntos quedan ubicados en una cantidad finita de hiperplanos, y por lo tanto existen ''franjas'' en las que no cae ninguna $k$-upla.\n"
   ]
  },
  {
   "cell_type": "code",
   "execution_count": null,
   "metadata": {
    "collapsed": true,
    "deletable": true,
    "editable": true
   },
   "outputs": [],
   "source": [
    "###\n",
    "import matplotlib.pyplot as plt\n",
    "###\n",
    "import numpy as np"
   ]
  },
  {
   "cell_type": "code",
   "execution_count": null,
   "metadata": {
    "collapsed": false,
    "deletable": true,
    "editable": true
   },
   "outputs": [],
   "source": [
    "###Hiperplanos\n",
    "N=500  ##cantidad de puntos\n",
    "secuencia=np.empty(N+1,int)\n",
    "\n",
    "\n",
    "###primer grafico\n",
    "\n",
    "\n",
    "a=19\n",
    "M=512\n",
    "\n",
    "u=semilla\n",
    "for i in range(N+1):\n",
    "\tu=ranMulti(u)\n",
    "\tsecuencia[i]=u\n",
    "\n",
    "plt.figure(1)\n",
    "plt.title('yn=19*y{n-1} (512)',fontsize=10)\n",
    "plt.axis([0,M,0,M])\n",
    "plt.plot(secuencia[0:N],secuencia[1:N+1],'b.')\n",
    "\n",
    "###segundo grafico\n",
    "\n",
    "\n",
    "a=19\n",
    "M=256\n",
    "\n",
    "u=semilla\n",
    "for i in range(N+1):\n",
    "\tu=ranMulti(u)\n",
    "\tsecuencia[i]=u\n",
    "\n",
    "plt.figure(2)\n",
    "plt.title('yn=137*y{n-1} (256)',fontsize=10)    \n",
    "plt.axis([0,M,0,M])\n",
    "plt.plot(secuencia[0:N],secuencia[1:N+1],'b.')\n",
    "\n",
    "###tercer grafico\n",
    "\n",
    "\n",
    "a=21\n",
    "M=256\n",
    "c=0\n",
    "u=semilla\n",
    "for i in range(N+1):\n",
    "\tu=ranMulti(u)\n",
    "\tsecuencia[i]=u\n",
    "\n",
    "plt.figure(3)\n",
    "plt.title('yn=21*y{n-1} (256)',fontsize=10)\n",
    "plt.axis([0,M,0,M])\n",
    "plt.plot(secuencia[0:N],secuencia[1:N+1],'b.')\n",
    "\n",
    "###cuarto grafico\n",
    "\n",
    "\n",
    "a=21\n",
    "M=256\n",
    "c=1\n",
    "u1=ranMixto(semilla)\n",
    "u=semilla\n",
    "for i in range(N+1):\n",
    "\tu=ranMixto(u)\n",
    "\tsecuencia[i]=u\n",
    "\n",
    "plt.figure(4)\n",
    "plt.title('yn=21*y{n-1}+1  (256)',fontsize=10)\n",
    "plt.axis([0,M,0,M])\n",
    "plt.plot(secuencia[0:N],secuencia[1:N+1],'b.')\n",
    "\n",
    "plt.show()\n"
   ]
  },
  {
   "cell_type": "markdown",
   "metadata": {
    "deletable": true,
    "editable": true
   },
   "source": [
    "Un mal generador y ejemplo de este problema es __RANDU__. Este es un generador del tipo congruencial lineal multiplicativo ($c=0$), con $M=2^{31}$ y $a=2^{16}+3$:\n",
    "\n",
    "$$y_n=65539\\cdot y_{n-1} \\mod 2\\,147\\,483\\,648.$$\n",
    "\n",
    "Las ternas generadas por RANDU se ubican en 15 planos paralelos, dentro del cubo de lado 1. Cabe mencionar que este generador fue implementado en computadoras de IBM por mucho tiempo, y difundido a otros sistemas.\n"
   ]
  },
  {
   "cell_type": "code",
   "execution_count": null,
   "metadata": {
    "collapsed": true,
    "deletable": true,
    "editable": true
   },
   "outputs": [],
   "source": [
    "import matplotlib as mpl\n",
    "from mpl_toolkits.mplot3d import Axes3D"
   ]
  },
  {
   "cell_type": "code",
   "execution_count": null,
   "metadata": {
    "collapsed": false,
    "deletable": true,
    "editable": true
   },
   "outputs": [],
   "source": [
    "mpl.rcParams['legend.fontsize'] = 10\n",
    "\n",
    "fig = plt.figure(1)\n",
    "ax = fig.add_subplot(111, projection='3d')\n",
    "fig.gca(projection='3d')\n",
    "\n",
    "N=100000\n",
    "secuencia=np.empty(N+2,float)\n",
    "\n",
    "M=2**31\n",
    "a=2**16+3\n",
    "semilla=1\n",
    "\n",
    "u = semilla\n",
    "for i in range(N+2):\n",
    "    u = ranMulti(u)\n",
    "    secuencia[i]=u/M\n",
    "\n",
    "ax.scatter(secuencia[1:N+1],secuencia[0:N],secuencia[2:N+2], depthshade=False, s=0.2, marker='.')\n",
    "\n",
    "plt.figure(1)\n",
    "ax.set_xlabel('u{i+1}')\n",
    "ax.set_ylabel('u{i}')\n",
    "ax.set_zlabel('u{i+2}')\n",
    "ax.view_init(azim=30, elev=40) ##probar modificar los ángulos de azimut y elevación\n",
    "\n",
    "plt.title(\"Hiperplanos generados por RANDU\", fontsize=10)\n",
    "\n",
    "plt.show()\n"
   ]
  },
  {
   "cell_type": "markdown",
   "metadata": {
    "deletable": true,
    "editable": true
   },
   "source": [
    "### Generadores congruenciales lineales combinados\n",
    "\n",
    "Una forma de producir __mayor aleatoriedad__ en una secuencia, y evitar la desventaja de los hiperplanos mencionada en la sección anterior, es utilizar más de un generador congruencial lineal y combinarlos entre ellos. Por combinar entendemos sumarlos o restarlos, y en general se recomienda la resta.\n",
    "\n",
    "Ahora bien, ¿es cierto que si sumamos dos variables aleatorias uniformes obtenemos otra distribución uniforme? La respuesta es __no__, y podemos verlo claramente arrojando dos dados. Supongamos que sus caras son igualmente probables, entonces las sumas no lo son: el 7 es más probable que el 2, por ejemplo:\n",
    "$$2  =  1+1 \\qquad \\qquad3 = 1 + 2 = 2 + 1 \\qquad \\qquad4= 1 + 3 = 2 + 2 = 3 + 1  $$\n",
    "Sin embargo, si sumamos las caras y consideramos el resultado módulo 6, entonces, vemos que:\n",
    "\n",
    "- el 0 se obtiene como 6+6, 1+5, 2+4, 3+3, 4+2, 5+1 \n",
    "- el 1 se obtiene como 1+6, 2+5, 3+4, 4+3, 5+2, 6+1\n",
    "- el 2 se obtiene como 2+6, 3+5, 4+4, 5+3, 6+2, 1+1 \n",
    "- el 3 se obtiene como 3+6, 4+5, 5+4, 6+3, 1+2, 2+1 \n",
    "- el 4 se obtiene como 4+6, 5+5, 6+4, 1+3, 2+2, 3+1 \n",
    "- el 5 se obtiene como 5+6, 6+5, 1+4, 2+3, 3+2, 4+1 \n",
    "\n",
    "Esto es, cada suma módulo 6 tiene la misma probabilidad de ocurrir, y por lo tanto _la suma módulo 6_ tiene distribución uniforme en $\\{0,6\\}$.\n",
    "\n",
    "__Ejercicio:__\n",
    "¿Qué pasaría si uno de los dados tuviera 5 caras, y consideraramos las sumas módulo 6?, ¿y si se consideran módulo 5?\n",
    "\n",
    "Este resultado se generaliza en el siguiente teorema:\n",
    "\n",
    "__Teorema 4:__\n",
    "Sean $W_1, W_2, \\dots, W_n$ variables aleatorias discretas uniformes, tales que $W_1 \\sim U(\\{0,d-1\\})$ para cierto $d\\ge 1$. Entonces\n",
    "$$W= (\\sum_{j=1}^n W_j) \\mod d$$\n",
    "es una v.a. uniforme discreta en $\\{0,d-1\\}$.\n",
    "\n",
    "La demostración puede encontrarse en L'Ecuyer (ver Referencias). Notemos que sólo se requiere que una de las variables aleatorias sea uniforme en $\\{0,d-1\\}$.\n",
    "\n",
    "\n",
    "Esto en particular nos dice que podemos sumar dos o más generadores congruenciales (que sean buenos generadores de v.a. uniformes), y tomando módulo uno de ellos obtendríamos un nuevo generador de v.a. uniformes. ¿Cuál es la ventaja de hacer esto? Recordemos que los generadores congruenciales tienen un determinado período. Si sumamos dos generadores con un mismo período $K$, entonces $K$ será el período de la suma. Pero si los períodos son diferentes, entonces la suma tiene un período mayor.\n",
    "\n",
    "Este resultado se enuncia de manera general en el siguiente teorema, y su demostración puede verse también como Lema 2 en L'Ecuyer. (ver Referencias)\n",
    "\n",
    "__Teorema 5:__\n",
    "Consideremos una familia de $N$ generadores, donde para cada $j$, $j=1,2,\\dots,N$, el generador $j$ tiene período $K_j$ y evoluciona de acuerdo a una ley:\n",
    "$$f_j(y_{n,j})=f_j(y_{n-1,j}), \\qquad n\\ge 1,\\quad y_0=\\mbox{semilla del generador } j.$$ \n",
    "Entonces el período $K$ de la secuencia\n",
    "$$s_n=(y_{n,1},y_{n,2},\\dots, y_{n,N}), \\qquad n \\ge 1,$$\n",
    "es igual al mínimo común múltiplo de $K_1$, $K_2$, $\\dots$, $K_N$.\n",
    "\n",
    "\n",
    "Así, los Teoremas 4 y 5 constituyen la base teórica que nos permite obtener nuevos generadores congruenciales de v.a. uniformes a partir de la suma o resta de dos o más generadores. Además, con una buena elección de los períodos de los generadores se podrá garantizar un período mucho más largo para la combinación.\n",
    "\n",
    "\n",
    "Un generador de estas características es el propuesto en \\cite{lecuyer}. Se consideran los generadores:\n",
    "$$x_n=40014x_{n-1} \\mod 2^{31}-85$$\n",
    "$$y_n=40692y_{n-1} \\mod 2^{31}-249$$\n",
    "Los períodos de estos generadores tienen un solo 2 como factor común:\n",
    "$$2^{31}-86=2\\cdot 3\\cdot 7\\cdot 631\\cdot 81031, \\qquad 2^{31}-250=2\\cdot 19\\cdot 31\\cdot 1019\\cdot 1789,$$\n",
    "por lo que el período de la secuencia $(x_n-y_n) \\mod M$ (para cualquiera de los módulos $M$) es del orden del producto de los dos períodos dividido $2$. En este caso,\n",
    "$$ K \\approx 2^{61}=2\\,305\\,843\\,009\\,213\\,693\\,952 \\sim 2.3\\times 10^{18}.$$\n",
    "\n",
    "Los siguientes códigos muestran la distribución de los puntos $(U_i,U_{i+1})$ para cada uno de los tres generadores, pero tomando sólo aquellos donde $U_i<0.001$."
   ]
  },
  {
   "cell_type": "code",
   "execution_count": null,
   "metadata": {
    "collapsed": false,
    "deletable": true,
    "editable": true
   },
   "outputs": [],
   "source": [
    "M1=2**31-85\n",
    "a1=40014\n",
    "def ran0(u):  \n",
    "    return (a1*u) % M1\n",
    "    \n",
    "\n",
    "M2=2**31-249\n",
    "a2=40692\n",
    "def ran1(u):\n",
    "    return (a2*u)%M2\n",
    "    \n",
    "\n",
    "def ranCombinado(u1,u2):\n",
    "    return (u1-u2)%M\n",
    "\n",
    " \n",
    "\n",
    "N=5000000\n",
    "sec1=np.empty(N+1,float)\n",
    "sec2=np.empty(N+1,float)\n",
    "sec3=np.empty(N+1,float)\n",
    "\n",
    "M=M1  #se puede elegir M2 también.\n",
    "semilla1=1000\n",
    "semilla2=1000\n",
    "\n",
    "u1=semilla1\n",
    "u2=semilla2\n",
    "\n",
    "for i in range(N):\n",
    "    u1=ran0(u1)\n",
    "    u2=ran1(u2)\n",
    "    u3=ranCombinado(u1,u2)\n",
    "    sec1[i]=u1/M1\n",
    "    sec2[i]=u2/M2\n",
    "    sec3[i]=u3/M    \n",
    " \n",
    "plt.figure(1)\n",
    "plt.axis([0, 0.001, 0, 1])\n",
    "plt.title('xn=40014*x{n-1} (2**31-85)',fontsize=10)\n",
    "plt.plot(sec1[0:N],sec1[1:N+1],'b.')\n",
    "#plt.savefig(\"/home/patricia/Windows/Famaf/Materias/MODELOSYSIMULACION/2017/clases/CLASES-2017/UNIDAD 2/gen1.pdf\")\n",
    "\n",
    "plt.figure(2) \n",
    "plt.axis([0, 0.001, 0, 1])\n",
    "plt.title('yn=40692*y{n-1}  (2**31-249)',fontsize=10)\n",
    "plt.plot(sec2[0:N],sec2[1:N+1],'r.')\n",
    "#plt.savefig(\"/home/patricia/Windows/Famaf/Materias/MODELOSYSIMULACION/2017/clases/CLASES-2017/UNIDAD 2/gen2.pdf\")\n",
    "\n",
    "\n",
    "plt.figure(3) \n",
    "plt.axis([0, 0.001, 0, 1])\n",
    "plt.title('xn-yn  (2**31-85)',fontsize=10)\n",
    "plt.plot(sec3[0:N],sec3[1:N+1],'k.')\n",
    "#plt.savefig(\"/home/patricia/Windows/Famaf/Materias/MODELOSYSIMULACION/2017/clases/CLASES-2017/UNIDAD 2/combinado.pdf\")\n",
    "plt.show()\n"
   ]
  },
  {
   "cell_type": "markdown",
   "metadata": {
    "deletable": true,
    "editable": true
   },
   "source": [
    "## Otros generadores eficientes y portables\n",
    "\n",
    "Existen otras formas de mejorar la eficiencia de los generadores construidos a partir de un generador congruencial, como son del tipo Fibonacci, resta con préstamo, suma con acarreo, y otros tantos. En el artículo de Marsaglia y Zaman (ver Referencias) se presenta una extensa lista de generadores candidatos a ser combinados para obtener aún mejores generadores. Algunos son los siguientes:\n",
    "\n",
    "\n",
    "  - M=$2^{32}$,     $x_n=69069\\,x_{n-1}+$ impar,    Período $K=2^{32}$\n",
    "  - M=$2^{32}$,     $x_n=x_{n-1}*x_{n-2}$,          Período $K=2^{31}$\n",
    "  - M=$2^{32}$,     $x_n=x_{n-1}+x_{n-2}+C$,        Período $K=2^{58}$ \n",
    "  - M=$2^{31}-69$,  $x_n=x_{n-3}-x_{n-1}$,          Período $K=2^{62}$\n",
    "  - M=$2^{32}-18$,  $x_n=x_{n-2}-x_{n-3}-C$,        Período $K=2^{95}$\n",
    " \n",
    "\n",
    "La constante $C$ indica un $0$ o un $1$ según corresponda, para acarreos o préstamos.\n",
    "\n",
    "Por último, señalamos que en la biblioteca Python se implementa la rutina __Mersenne-twister__, bastante más compleja que los generadores que hemos visto. Invitamos al lector a investigar sobre este generador en particular."
   ]
  },
  {
   "cell_type": "code",
   "execution_count": null,
   "metadata": {
    "collapsed": false,
    "deletable": true,
    "editable": true
   },
   "outputs": [],
   "source": [
    "from random import random"
   ]
  },
  {
   "cell_type": "code",
   "execution_count": null,
   "metadata": {
    "collapsed": false,
    "deletable": true,
    "editable": true,
    "scrolled": true
   },
   "outputs": [],
   "source": [
    "N=10000\n",
    "sec=np.empty(N+2,float)\n",
    "for i in range(N+2):\n",
    "    sec[i]=random()\n",
    "\n",
    "plt.figure(1)\n",
    "plt.plot(sec[0:N+1],sec[1:N+2],'r.',markersize=1)\n",
    "\n",
    "fg = plt.figure(2)\n",
    "bx = fg.add_subplot(111, projection='3d')\n",
    "bx.scatter(sec[1:N+1],sec[0:N],sec[2:N+2], depthshade=False, s=0.2, marker='.')\n",
    "plt.show()"
   ]
  },
  {
   "cell_type": "markdown",
   "metadata": {
    "deletable": true,
    "editable": true
   },
   "source": [
    "## Referencias\n",
    "\n",
    "1. L'Ecuyer, Pierre. _Efficient and Portable Combined Random Number Generators_, Communications of the ACM, (1988) __31__(6), pp.742--774.\n",
    "2. Bustos, Oscar y Frery, Alejandro. _Simulacao estocastica : teoría e algoritmos (versao completa)_. Series Monografías en Matemática. __Vol 42__. Edit. IMPA. 1992.\n",
    "3. Knuth, Donald E. _Seminumerical Algorithms. The Art of Computer Programming._ __Vol 2__. Edit. Addison-Wesley. 1998.\n",
    "4. Marsaglia, George y Zaman, Arif. _Some portable very-long-period random number generators_, Computers in Physics, __8__ (6). (1994)\n",
    "5. _Numerical recipes in C: The Art of Scientific Computing_. Cambridge University Press. (1988-1992)"
   ]
  }
 ],
 "metadata": {
  "kernelspec": {
   "display_name": "Python 3",
   "language": "python",
   "name": "python3"
  },
  "language_info": {
   "codemirror_mode": {
    "name": "ipython",
    "version": 3
   },
   "file_extension": ".py",
   "mimetype": "text/x-python",
   "name": "python",
   "nbconvert_exporter": "python",
   "pygments_lexer": "ipython3",
   "version": "3.5.2"
  }
 },
 "nbformat": 4,
 "nbformat_minor": 2
}

